{
  "nbformat": 4,
  "nbformat_minor": 0,
  "metadata": {
    "colab": {
      "name": "RL.ipynb",
      "provenance": [],
      "collapsed_sections": [
        "jrI6q7RmWQam"
      ],
      "include_colab_link": true
    },
    "kernelspec": {
      "name": "python3",
      "display_name": "Python 3"
    },
    "accelerator": "TPU"
  },
  "cells": [
    {
      "cell_type": "markdown",
      "metadata": {
        "id": "view-in-github",
        "colab_type": "text"
      },
      "source": [
        "<a href=\"https://colab.research.google.com/github/karanchhabra99/introtodeeplearning/blob/master/lab3/RL.ipynb\" target=\"_parent\"><img src=\"https://colab.research.google.com/assets/colab-badge.svg\" alt=\"Open In Colab\"/></a>"
      ]
    },
    {
      "cell_type": "markdown",
      "metadata": {
        "id": "jrI6q7RmWQam",
        "colab_type": "text"
      },
      "source": [
        "<table align=\"center\">\n",
        "  <td align=\"center\"><a target=\"_blank\" href=\"http://introtodeeplearning.com\">\n",
        "        <img src=\"http://introtodeeplearning.com/images/colab/mit.png\" style=\"padding-bottom:5px;\" />\n",
        "      Visit MIT Deep Learning</a></td>\n",
        "  <td align=\"center\"><a target=\"_blank\" href=\"https://colab.research.google.com/github/aamini/introtodeeplearning/blob/master/lab3/RL.ipynb\">\n",
        "        <img src=\"http://introtodeeplearning.com/images/colab/colab.png?v2.0\"  style=\"padding-bottom:5px;\" />Run in Google Colab</a></td>\n",
        "  <td align=\"center\"><a target=\"_blank\" href=\"https://github.com/aamini/introtodeeplearning/blob/master/lab3/RL.ipynb\">\n",
        "        <img src=\"http://introtodeeplearning.com/images/colab/github.png\"  height=\"70px\" style=\"padding-bottom:5px;\"  />View Source on GitHub</a></td>\n",
        "</table>\n",
        "\n",
        "# Copyright Information"
      ]
    },
    {
      "cell_type": "code",
      "metadata": {
        "id": "wkd375upWYok",
        "colab_type": "code",
        "colab": {}
      },
      "source": [
        "# Copyright 2020 MIT 6.S191 Introduction to Deep Learning. All Rights Reserved.\n",
        "# \n",
        "# Licensed under the MIT License. You may not use this file except in compliance\n",
        "# with the License. Use and/or modification of this code outside of 6.S191 must\n",
        "# reference:\n",
        "#\n",
        "# © MIT 6.S191: Introduction to Deep Learning\n",
        "# http://introtodeeplearning.com\n",
        "#"
      ],
      "execution_count": 0,
      "outputs": []
    },
    {
      "cell_type": "markdown",
      "metadata": {
        "id": "WoXYKhfZMHiw",
        "colab_type": "text"
      },
      "source": [
        "# Laboratory 3: Reinforcement Learning\n",
        "\n",
        "Reinforcement learning (RL) is a subset of machine learning which poses learning problems as interactions between agents and environments. It often assumes agents have no prior knowledge of a world, so they must learn to navigate environments by optimizing a reward function. Within an environment, an agent can take certain actions and receive feedback, in the form of positive or negative rewards, with respect to their decision. As such, an agent's feedback loop is somewhat akin to the idea of \"trial and error\", or the manner in which a child might learn to distinguish between \"good\" and \"bad\" actions.\n",
        "\n",
        "In practical terms, our RL agent will interact with the environment by taking an action at each timestep, receiving a corresponding reward, and updating its state according to what it has \"learned\".  \n",
        "\n",
        "![alt text](https://www.kdnuggets.com/images/reinforcement-learning-fig1-700.jpg)\n",
        "\n",
        "While the ultimate goal of reinforcement learning is to teach agents to act in the real, physical world, games provide a convenient proving ground for developing RL algorithms and agents. Games have some properties that make them particularly well suited for RL: \n",
        "\n",
        "1.   In many cases, games have perfectly describable environments. For example, all rules of chess can be formally written and programmed into a chess game simulator;\n",
        "2.   Games are massively parallelizable. Since they do not require running in the real world, simultaneous environments can be run on large data clusters; \n",
        "3.   Simpler scenarios in games enable fast prototyping. This speeds up the development of algorithms that could eventually run in the real-world; and\n",
        "4.   ... Games are fun! \n",
        "\n",
        "In previous labs, we have explored both supervised (with LSTMs, CNNs) and unsupervised / semi-supervised (with VAEs) learning tasks. Reinforcement learning is fundamentally different, in that we are training a deep learning algorithm to govern the actions of our RL agent, that is trying, within its environment, to find the optimal way to achieve a goal. The goal of training an RL agent is to determine the best next step to take to earn the greatest final payoff or return. In this lab, we focus on building a reinforcement learning algorithm to master two different environments with varying complexity. \n",
        "\n",
        "1.   **Cartpole**:   Balance a pole, protruding from a cart, in an upright position by only moving the base left or right. Environment with a low-dimensional observation space.\n",
        "2.   [**Pong**](https://en.wikipedia.org/wiki/Pong): Beat your competitors (whether other AI or humans!) at the game of Pong. Environment with a high-dimensional observation space -- learning directly from raw pixels.\n",
        "\n",
        "Let's get started! First we'll import TensorFlow, the course package, and some dependencies.\n"
      ]
    },
    {
      "cell_type": "code",
      "metadata": {
        "id": "EvdePP-VyVWp",
        "colab_type": "code",
        "colab": {
          "base_uri": "https://localhost:8080/",
          "height": 334
        },
        "outputId": "6ed7459b-9ac8-4ab1-987e-e4a2342438c1"
      },
      "source": [
        "!apt-get install -y xvfb python-opengl x11-utils > /dev/null 2>&1\n",
        "!pip install gym pyvirtualdisplay scikit-video > /dev/null 2>&1\n",
        "\n",
        "%tensorflow_version 2.x\n",
        "import tensorflow as tf\n",
        "\n",
        "import numpy as np\n",
        "import base64, io, time, gym\n",
        "import IPython, functools\n",
        "import matplotlib.pyplot as plt\n",
        "from tqdm import tqdm\n",
        "\n",
        "!pip install mitdeeplearning\n",
        "import mitdeeplearning as mdl"
      ],
      "execution_count": 3,
      "outputs": [
        {
          "output_type": "stream",
          "text": [
            "Collecting mitdeeplearning\n",
            "\u001b[?25l  Downloading https://files.pythonhosted.org/packages/8b/3b/b9174b68dc10832356d02a2d83a64b43a24f1762c172754407d22fc8f960/mitdeeplearning-0.1.2.tar.gz (2.1MB)\n",
            "\u001b[K     |████████████████████████████████| 2.1MB 3.4MB/s \n",
            "\u001b[?25hRequirement already satisfied: numpy in /usr/local/lib/python3.6/dist-packages (from mitdeeplearning) (1.18.4)\n",
            "Requirement already satisfied: regex in /usr/local/lib/python3.6/dist-packages (from mitdeeplearning) (2019.12.20)\n",
            "Requirement already satisfied: tqdm in /usr/local/lib/python3.6/dist-packages (from mitdeeplearning) (4.41.1)\n",
            "Requirement already satisfied: gym in /usr/local/lib/python3.6/dist-packages (from mitdeeplearning) (0.17.2)\n",
            "Requirement already satisfied: pyglet<=1.5.0,>=1.4.0 in /usr/local/lib/python3.6/dist-packages (from gym->mitdeeplearning) (1.5.0)\n",
            "Requirement already satisfied: scipy in /usr/local/lib/python3.6/dist-packages (from gym->mitdeeplearning) (1.4.1)\n",
            "Requirement already satisfied: cloudpickle<1.4.0,>=1.2.0 in /usr/local/lib/python3.6/dist-packages (from gym->mitdeeplearning) (1.3.0)\n",
            "Requirement already satisfied: future in /usr/local/lib/python3.6/dist-packages (from pyglet<=1.5.0,>=1.4.0->gym->mitdeeplearning) (0.16.0)\n",
            "Building wheels for collected packages: mitdeeplearning\n",
            "  Building wheel for mitdeeplearning (setup.py) ... \u001b[?25l\u001b[?25hdone\n",
            "  Created wheel for mitdeeplearning: filename=mitdeeplearning-0.1.2-cp36-none-any.whl size=2114586 sha256=3f8feb0d5cd366a8f3e10a7e1e009b20585621bf209b8cf445b4b97acd277587\n",
            "  Stored in directory: /root/.cache/pip/wheels/27/e1/73/5f01c787621d8a3c857f59876c79e304b9b64db9ff5bd61b74\n",
            "Successfully built mitdeeplearning\n",
            "Installing collected packages: mitdeeplearning\n",
            "Successfully installed mitdeeplearning-0.1.2\n"
          ],
          "name": "stdout"
        }
      ]
    },
    {
      "cell_type": "markdown",
      "metadata": {
        "id": "zmrHSiXKTXTY",
        "colab_type": "text"
      },
      "source": [
        "Before we dive in, let's take a step back and outline our approach, which is generally applicable to reinforcement learning problems in general:\n",
        "\n",
        "1. **Initialize our environment and our agent**: here we will describe the different observations and actions the agent can make in the environemnt.\n",
        "2. **Define our agent's memory**: this will enable the agent to remember its past actions, observations, and rewards.\n",
        "3. **Define a reward function**: describes the reward associated with an action or sequence of actions.\n",
        "4. **Define the learning algorithm**: this will be used to reinforce the agent's good behaviors and discourage bad behaviors.\n"
      ]
    },
    {
      "cell_type": "markdown",
      "metadata": {
        "id": "UT7YL8KBJIIc",
        "colab_type": "text"
      },
      "source": [
        "# Part 1: Cartpole\n",
        "\n",
        "## 3.1 Define the Cartpole environment and agent\n",
        "\n",
        "### Environment \n",
        "\n",
        "In order to model the environment for both the Cartpole and Pong tasks, we'll be using a toolkit developed by OpenAI called [OpenAI Gym](https://gym.openai.com/). It provides several pre-defined environments for training and testing reinforcement learning agents, including those for classic physics control tasks, Atari video games, and robotic simulations. To access the Cartpole environment, we can use `env = gym.make(\"CartPole-v0\")`, which we gained access to when we imported the `gym` package. We can instantiate different [environments](https://gym.openai.com/envs/#classic_control) by passing the enivronment name to the `make` function.\n",
        "\n",
        "One issue we might experience when developing RL algorithms is that many aspects of the learning process are inherently random: initializing game states, changes in the environment, and the agent's actions. As such, it can be helpful to set a initial \"seed\" for the environment to ensure some level of reproducibility. Much like you might use `numpy.random.seed`, we can call the comparable function in gym, `seed`, with our defined environment to ensure the environment's random variables are initialized the same each time."
      ]
    },
    {
      "cell_type": "code",
      "metadata": {
        "id": "quv9SC0iIYFm",
        "colab_type": "code",
        "colab": {
          "base_uri": "https://localhost:8080/",
          "height": 34
        },
        "outputId": "6c950968-8e3a-4d59-ce32-0baec3de0193"
      },
      "source": [
        "### Instantiate the Cartpole environment ###\n",
        "\n",
        "env = gym.make(\"CartPole-v0\")\n",
        "env.seed(1)"
      ],
      "execution_count": 4,
      "outputs": [
        {
          "output_type": "execute_result",
          "data": {
            "text/plain": [
              "[1]"
            ]
          },
          "metadata": {
            "tags": []
          },
          "execution_count": 4
        }
      ]
    },
    {
      "cell_type": "markdown",
      "metadata": {
        "id": "mhEITUcKK455",
        "colab_type": "text"
      },
      "source": [
        "In Cartpole, a pole is attached by an un-actuated joint to a cart, which moves along a frictionless track. The pole starts upright, and the goal is to prevent it from falling over. The system is controlled by applying a force of +1 or -1 to the cart. A reward of +1 is provided for every timestep that the pole remains upright. The episode ends when the pole is more than 15 degrees from vertical, or the cart moves more than 2.4 units from the center of the track. A visual summary of the cartpole environment is depicted below:\n",
        "\n",
        "<img width=\"400px\" src=\"https://danielpiedrahita.files.wordpress.com/2017/02/cart-pole.png\"></img>\n",
        "\n",
        "Given this setup for the environment and the objective of the game, we can think about: 1) what observations help define the environment's state; 2) what actions the agent can take. \n",
        "\n",
        "First, let's consider the observation space. In this Cartpole environment our observations are:\n",
        "\n",
        "1. Cart position\n",
        "2. Cart velocity\n",
        "3. Pole angle\n",
        "4. Pole rotation rate\n",
        "\n",
        "We can confirm the size of the space by querying the environment's observation space:\n"
      ]
    },
    {
      "cell_type": "code",
      "metadata": {
        "id": "UVJaEcbdIX82",
        "colab_type": "code",
        "colab": {
          "base_uri": "https://localhost:8080/",
          "height": 34
        },
        "outputId": "dfb69d63-31a9-4920-ff6c-71404d1b13df"
      },
      "source": [
        "n_observations = env.observation_space\n",
        "print(\"Environment has observation space =\", n_observations)"
      ],
      "execution_count": 5,
      "outputs": [
        {
          "output_type": "stream",
          "text": [
            "Environment has observation space = Box(4,)\n"
          ],
          "name": "stdout"
        }
      ]
    },
    {
      "cell_type": "markdown",
      "metadata": {
        "id": "ZibGgjrALgPM",
        "colab_type": "text"
      },
      "source": [
        "Second, we consider the action space. At every time step, the agent can move either right or left. Again we can confirm the size of the action space by querying the environment:"
      ]
    },
    {
      "cell_type": "code",
      "metadata": {
        "id": "qc9SIPxBIXrm",
        "colab_type": "code",
        "colab": {
          "base_uri": "https://localhost:8080/",
          "height": 34
        },
        "outputId": "6c13998a-5983-43f4-fb26-e2114a59cdfe"
      },
      "source": [
        "n_actions = env.action_space.n\n",
        "print(\"Number of possible actions that the agent can choose from =\", n_actions)"
      ],
      "execution_count": 6,
      "outputs": [
        {
          "output_type": "stream",
          "text": [
            "Number of possible actions that the agent can choose from = 2\n"
          ],
          "name": "stdout"
        }
      ]
    },
    {
      "cell_type": "markdown",
      "metadata": {
        "id": "pPfHME8aRKkb",
        "colab_type": "text"
      },
      "source": [
        "### Cartpole agent\n",
        "\n",
        "Now that we have instantiated the environment and understood the dimensionality of the observation and action spaces, we are ready to define our agent. In deep reinforcement learning, a deep neural network defines the agent. This network will take as input an observation of the environment and output the probability of taking each of the possible actions. Since Cartpole is defined by a low-dimensional observation space, a simple feed-forward neural network should work well for our agent. We will define this using the `Sequential` API.\n"
      ]
    },
    {
      "cell_type": "code",
      "metadata": {
        "id": "W-o_XK4oQ4eu",
        "colab_type": "code",
        "colab": {}
      },
      "source": [
        "### Define the Cartpole agent ###\n",
        "\n",
        "# Defines a feed-forward neural network\n",
        "def create_cartpole_model():\n",
        "  model = tf.keras.models.Sequential([\n",
        "      # First Dense layer\n",
        "      tf.keras.layers.Dense(units=32, activation='relu'),\n",
        "\n",
        "      # TODO: Define the last Dense layer, which will provide the network's output.\n",
        "      # Think about the space the agent needs to act in!\n",
        "      #'''TODO: Dense layer to output action probabilities'''\n",
        "      tf.keras.layers.Dense(units=n_actions, activation=None)\n",
        "\n",
        "  ])\n",
        "  return model\n",
        "\n",
        "cartpole_model = create_cartpole_model()"
      ],
      "execution_count": 0,
      "outputs": []
    },
    {
      "cell_type": "markdown",
      "metadata": {
        "id": "d5D5NSIYS2IW",
        "colab_type": "text"
      },
      "source": [
        "Now that we have defined the core network architecture, we will define an *action function* that executes a forward pass through the network, given a set of observations, and samples from the output. This sampling from the output probabilities will be used to select the next action for the agent. \n",
        "\n",
        "**Critically, this action function is totally general -- we will use this function for both Cartpole and Pong, and it is applicable to other RL tasks, as well!**"
      ]
    },
    {
      "cell_type": "code",
      "metadata": {
        "id": "E_vVZRr8Q4R_",
        "colab_type": "code",
        "colab": {}
      },
      "source": [
        "### Define the agent's action function ###\n",
        "\n",
        "# Function that takes observations as input, executes a forward pass through model, \n",
        "#   and outputs a sampled action.\n",
        "# Arguments:\n",
        "#   model: the network that defines our agent\n",
        "#   observation: observation which is fed as input to the model\n",
        "# Returns:\n",
        "#   action: choice of agent action\n",
        "def choose_action(model, observation):\n",
        "  # add batch dimension to the observation\n",
        "  observation = np.expand_dims(observation, axis=0)\n",
        "\n",
        "  '''TODO: feed the observations through the model to predict the log probabilities of each possible action.'''\n",
        "  logits = model.predict(observation)\n",
        "  \n",
        "  # pass the log probabilities through a softmax to compute true probabilities\n",
        "  prob_weights = tf.nn.softmax(logits).numpy()\n",
        "  \n",
        "  '''TODO: randomly sample from the prob_weights to pick an action.\n",
        "  Hint: carefully consider the dimensionality of the input probabilities (vector) and the output action (scalar)'''\n",
        "  action = np.random.choice(n_actions, size=1, p=prob_weights.flatten())[0]\n",
        "\n",
        "  return action"
      ],
      "execution_count": 0,
      "outputs": []
    },
    {
      "cell_type": "markdown",
      "metadata": {
        "id": "_tR9uAWcTnkr",
        "colab_type": "text"
      },
      "source": [
        "## 3.2 Define the agent's memory\n",
        "\n",
        "Now that we have instantiated the environment and defined the agent network architecture and action function, we are ready to move on to the next step in our RL workflow:\n",
        "1. **Initialize our environment and our agent**: here we will describe the different observations and actions the agent can make in the environemnt.\n",
        "2. **Define our agent's memory**: this will enable the agent to remember its past actions, observations, and rewards.\n",
        "3. **Define the learning algorithm**: this will be used to reinforce the agent's good behaviors and discourage bad behaviors.\n",
        "\n",
        "In reinforcement learning, training occurs alongside the agent's acting in the environment; an *episode* refers to a sequence of actions that ends in some terminal state, such as the pole falling down or the cart crashing. The agent will need to remember all of its observations and actions, such that once an episode ends, it can learn to \"reinforce\" the good actions and punish the undesirable actions via training. Our first step is to define a simple memory buffer that contains the agent's observations, actions, and received rewards from a given episode. \n",
        "\n",
        "**Once again, note the modularity of this memory buffer -- it can and will be applied to other RL tasks as well!**"
      ]
    },
    {
      "cell_type": "code",
      "metadata": {
        "id": "8MM6JwXVQ4JG",
        "colab_type": "code",
        "colab": {}
      },
      "source": [
        "### Agent Memory ###\n",
        "\n",
        "class Memory:\n",
        "  def __init__(self): \n",
        "      self.clear()\n",
        "\n",
        "  # Resets/restarts the memory buffer\n",
        "  def clear(self): \n",
        "      self.observations = []\n",
        "      self.actions = []\n",
        "      self.rewards = []\n",
        "\n",
        "  # Add observations, actions, rewards to memory\n",
        "  def add_to_memory(self, new_observation, new_action, new_reward): \n",
        "      self.observations.append(new_observation)\n",
        "      #'''TODO: update the list of actions with new action'''\n",
        "      self.actions.append(new_action)\n",
        "      #'''TODO: update the list of rewards with new reward'''\n",
        "      self.rewards.append(new_reward)\n",
        "        \n",
        "memory = Memory()"
      ],
      "execution_count": 0,
      "outputs": []
    },
    {
      "cell_type": "markdown",
      "metadata": {
        "id": "D4YhtPaUVj5m",
        "colab_type": "text"
      },
      "source": [
        "## 3.3 Reward function\n",
        "\n",
        "We're almost ready to begin the learning algorithm for our agent! The next step is to compute the rewards of our agent as it acts in the environment. Since we (and the agent) is uncertain about if and when the game or task will end (i.e., when the pole will fall), it is useful to emphasize getting rewards **now** rather than later in the future -- this is the idea of discounting. This is a similar concept to discounting money in the case of interest. ecall from lecture, we use reward discount to give more preference at getting rewards now rather than later in the future. The idea of discounting rewards is similar to discounting money in the case of interest.\n",
        "\n",
        "To compute the expected cumulative reward, known as the **return**, at a given timestep in a learning episode, we sum the discounted rewards expected at that time step $t$, within a learning episode, and projecting into the future. We define the return (cumulative reward) at a time step $t$, $R_{t}$ as:\n",
        "\n",
        ">$R_{t}=\\sum_{k=0}^\\infty\\gamma^kr_{t+k}$\n",
        "\n",
        "where  $0 < \\gamma < 1$ is the discount factor and $r_{t}$ is the reward at time step $t$, and the index $k$ increments projection into the future within a single learning episode. Intuitively, you can think of this function as depreciating any rewards received at later time steps, which will force the agent prioritize getting rewards now. Since we can't extend episodes to infinity, in practice the computation will be limited to the number of timesteps in an episode -- after that the reward is assumed to be zero.\n",
        "\n",
        "Take note of the form of this sum -- we'll have to be clever about how we implement this function. Specifically, we'll need to initialize an array of zeros, with length of the number of time steps, and fill it with the real discounted reward values as we loop through the rewards from the episode, which will have been saved in the agents memory. What we ultimately care about is which actions are better relative to other actions taken in that episode -- so, we'll normalize our computed rewards, using the mean and standard deviation of the rewards across the learning episode.\n"
      ]
    },
    {
      "cell_type": "code",
      "metadata": {
        "id": "5_Q2OFYtQ32X",
        "colab_type": "code",
        "colab": {}
      },
      "source": [
        "### Reward function ###\n",
        "\n",
        "# Helper function that normalizes an np.array x\n",
        "def normalize(x):\n",
        "  x -= np.mean(x)\n",
        "  x /= np.std(x)\n",
        "  return x.astype(np.float32)\n",
        "\n",
        "# Compute normalized, discounted, cumulative rewards (i.e., return)\n",
        "# Arguments:\n",
        "#   rewards: reward at timesteps in episode\n",
        "#   gamma: discounting factor\n",
        "# Returns:\n",
        "#   normalized discounted reward\n",
        "def discount_rewards(rewards, gamma=0.95): \n",
        "  discounted_rewards = np.zeros_like(rewards)\n",
        "  R = 0\n",
        "  for t in reversed(range(0, len(rewards))):\n",
        "      # update the total discounted reward\n",
        "      R = R * gamma + rewards[t]\n",
        "      discounted_rewards[t] = R\n",
        "      \n",
        "  return normalize(discounted_rewards)"
      ],
      "execution_count": 0,
      "outputs": []
    },
    {
      "cell_type": "markdown",
      "metadata": {
        "id": "QzbY-mjGYcmt",
        "colab_type": "text"
      },
      "source": [
        "## 3.4 Learning algorithm\n",
        "\n",
        "Now we can start to define the learing algorithm which will be used to reinforce good behaviors of the agent and discourage bad behaviours. In this lab, we will focus on *policy gradient* methods which aim to **maximize** the likelihood of actions that result in large rewards. Equivalently, this means that we want to **minimize** the negative likelihood of these same actions. We achieve this by simply **scaling** the probabilities by their associated rewards -- effectively amplifying the likelihood of actions that result in large rewards.\n",
        "\n",
        "Since the log function is monotonically increasing, this means that minimizing **negative likelihood** is equivalent to minimizing **negative log-likelihood**.  Recall that we can easily compute the negative log-likelihood of a discrete action by evaluting its [softmax cross entropy](https://www.tensorflow.org/api_docs/python/tf/nn/sparse_softmax_cross_entropy_with_logits). Like in supervised learning, we can use stochastic gradient descent methods to achieve the desired minimization. \n",
        "\n",
        "Let's begin by defining the loss function."
      ]
    },
    {
      "cell_type": "code",
      "metadata": {
        "id": "fsgZ3IDCY_Zn",
        "colab_type": "code",
        "colab": {}
      },
      "source": [
        "### Loss function ###\n",
        "\n",
        "# Arguments:\n",
        "#   logits: network's predictions for actions to take\n",
        "#   actions: the actions the agent took in an episode\n",
        "#   rewards: the rewards the agent received in an episode\n",
        "# Returns:\n",
        "#   loss\n",
        "def compute_loss(logits, actions, rewards): \n",
        "  #'''TODO: complete the function call to compute the negative log probabilities'''\n",
        "  neg_logprob = tf.nn.sparse_softmax_cross_entropy_with_logits(logits=logits, labels=actions)\n",
        "  \n",
        "  #'''TODO: scale the negative log probability by the rewards'''\n",
        "  loss = tf.reduce_mean(neg_logprob * rewards)\n",
        "  return loss"
      ],
      "execution_count": 0,
      "outputs": []
    },
    {
      "cell_type": "markdown",
      "metadata": {
        "id": "Rr5vQ9fqbPpp",
        "colab_type": "text"
      },
      "source": [
        "Now let's use the loss function to define a training step of our learning algorithm:"
      ]
    },
    {
      "cell_type": "code",
      "metadata": {
        "id": "_50ada7nbZ7L",
        "colab_type": "code",
        "colab": {}
      },
      "source": [
        "### Training step (forward and backpropagation) ###\n",
        "\n",
        "def train_step(model, optimizer, observations, actions, discounted_rewards):\n",
        "  with tf.GradientTape() as tape:\n",
        "      # Forward propagate through the agent network\n",
        "      logits = model(observations)\n",
        "\n",
        "      #'''TODO: call the compute_loss function to compute the loss'''\n",
        "      loss = compute_loss(logits, actions, discounted_rewards)\n",
        "\n",
        "  #'''TODO: run backpropagation to minimize the loss using the tape.gradient method.\n",
        "   #   Use `model.trainable_variables`'''\n",
        "  grads = tape.gradient(loss, model.trainable_variables)\n",
        "  optimizer.apply_gradients(zip(grads, model.trainable_variables))\n"
      ],
      "execution_count": 0,
      "outputs": []
    },
    {
      "cell_type": "markdown",
      "metadata": {
        "id": "XsjKXh6BcgjR",
        "colab_type": "text"
      },
      "source": [
        "## 3.5 Run cartpole!\n",
        "\n",
        "Having had no prior knowledge of the environment, the agent will begin to learn how to balance the pole on the cart based only on the feedback received from the environment! Having defined how our agent can move, how it takes in new observations, and how it updates its state, we'll see how it gradually learns a policy of actions to optimize balancing the pole as long as possible. To do this, we'll track how the rewards evolve as a function of training -- how should the rewards change as training progresses?"
      ]
    },
    {
      "cell_type": "code",
      "metadata": {
        "id": "XmOzc2rrcn8Q",
        "colab_type": "code",
        "colab": {
          "base_uri": "https://localhost:8080/",
          "height": 541
        },
        "outputId": "351168c9-c0e9-4305-e540-f65fbf08e554"
      },
      "source": [
        "### Cartpole training! ###\n",
        "\n",
        "# Learning rate and optimizer\n",
        "learning_rate = 1e-3\n",
        "optimizer = tf.keras.optimizers.Adam(learning_rate)\n",
        "\n",
        "# instantiate cartpole agent\n",
        "cartpole_model = create_cartpole_model()\n",
        "\n",
        "# to track our progress\n",
        "smoothed_reward = mdl.util.LossHistory(smoothing_factor=0.9)\n",
        "plotter = mdl.util.PeriodicPlotter(sec=2, xlabel='Iterations', ylabel='Rewards')\n",
        "\n",
        "if hasattr(tqdm, '_instances'): tqdm._instances.clear() # clear if it exists\n",
        "for i_episode in range(500):\n",
        "\n",
        "  plotter.plot(smoothed_reward.get())\n",
        "\n",
        "  # Restart the environment\n",
        "  observation = env.reset()\n",
        "  memory.clear()\n",
        "\n",
        "  while True:\n",
        "      # using our observation, choose an action and take it in the environment\n",
        "      action = choose_action(cartpole_model, observation)\n",
        "      next_observation, reward, done, info = env.step(action)\n",
        "      # add to memory\n",
        "      memory.add_to_memory(observation, action, reward)\n",
        "      \n",
        "      # is the episode over? did you crash or do so well that you're done?\n",
        "      if done:\n",
        "          # determine total reward and keep a record of this\n",
        "          total_reward = sum(memory.rewards)\n",
        "          smoothed_reward.append(total_reward)\n",
        "          \n",
        "          # initiate training - remember we don't know anything about how the \n",
        "          #   agent is doing until it has crashed!\n",
        "          train_step(cartpole_model, optimizer, \n",
        "                     observations=np.vstack(memory.observations),\n",
        "                     actions=np.array(memory.actions),\n",
        "                     discounted_rewards = discount_rewards(memory.rewards))\n",
        "          \n",
        "          # reset the memory\n",
        "          memory.clear()\n",
        "          break\n",
        "      # update our observatons\n",
        "      observation = next_observation"
      ],
      "execution_count": 21,
      "outputs": [
        {
          "output_type": "display_data",
          "data": {
            "image/png": "[encoded data removed]",
            "text/plain": [
              "<Figure size 432x288 with 1 Axes>"
            ]
          },
          "metadata": {
            "tags": []
          }
        },
        {
          "output_type": "display_data",
          "data": {
            "image/png": "[encoded data removed]",
            "text/plain": [
              "<Figure size 432x288 with 1 Axes>"
            ]
          },
          "metadata": {
            "tags": [],
            "needs_background": "light"
          }
        }
      ]
    },
    {
      "cell_type": "markdown",
      "metadata": {
        "id": "mkcUtGF1VE-K",
        "colab_type": "text"
      },
      "source": [
        "To get a sense of how our agent did, we can save a video of the trained model working on balancing the pole. Realize that this is a brand new environment that the agent has not seen before!\n",
        "\n",
        "Let's display the saved video to watch how our agent did!\n"
      ]
    },
    {
      "cell_type": "code",
      "metadata": {
        "id": "PAYBkv6Zbk0J",
        "colab_type": "code",
        "colab": {
          "base_uri": "https://localhost:8080/",
          "height": 438
        },
        "outputId": "3c8feb89-1b21-4754-c002-03fc78862b49"
      },
      "source": [
        "saved_cartpole = mdl.lab3.save_video_of_model(cartpole_model, \"CartPole-v0\")\n",
        "mdl.lab3.play_video(saved_cartpole)"
      ],
      "execution_count": 22,
      "outputs": [
        {
          "output_type": "stream",
          "text": [
            "Successfully saved 200 frames into CartPole-v0.mp4!\n"
          ],
          "name": "stdout"
        },
        {
          "output_type": "execute_result",
          "data": {
            "text/html": [
              "\n",
              "        <video controls>\n",
              "            <source src=\"data:video/mp4;base64,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\" type=\"video/mp4\" />\n",
              "        </video>"
            ],
            "text/plain": [
              "<IPython.core.display.HTML object>"
            ]
          },
          "metadata": {
            "tags": []
          },
          "execution_count": 22
        }
      ]
    },
    {
      "cell_type": "markdown",
      "metadata": {
        "id": "CSbVNDpaVb3_",
        "colab_type": "text"
      },
      "source": [
        "How does the agent perform? Could you train it for shorter amounts of time and still perform well? Do you think that training longer would help even more? "
      ]
    },
    {
      "cell_type": "markdown",
      "metadata": {
        "id": "Eu6Mqxc720ST",
        "colab_type": "text"
      },
      "source": [
        "#Part 2: Pong\n",
        "\n",
        "In Cartpole, we dealt with an environment that was static -- in other words, it didn't change over time. What happens if our environment is dynamic and unpredictable? Well that's exactly the case in [Pong](https://en.wikipedia.org/wiki/Pong), since part of the environment is the opposing player. We don't know how our opponent will act or react to our actions, so the complexity of our problem increases. It also becomes much more interesting, since we can compete to beat our opponent. RL provides a powerful framework for training AI systems with the ability to handle and interact with dynamic, unpredictable environments. In this part of the lab, we'll use the tools and workflow we explored in Part 1 to build an RL agent capable of playing the game of Pong.\n"
      ]
    },
    {
      "cell_type": "markdown",
      "metadata": {
        "id": "srZ4YE29isuA",
        "colab_type": "text"
      },
      "source": [
        "## 3.6 Define and inspect the Pong environment\n",
        "\n",
        "As with Cartpole, we'll instantiate the Pong environment in the OpenAI gym, using a seed of 1."
      ]
    },
    {
      "cell_type": "code",
      "metadata": {
        "id": "lbYHLr66i15n",
        "colab_type": "code",
        "colab": {}
      },
      "source": [
        "env = gym.make(\"Pong-v0\", frameskip=5)\n",
        "env.seed(1); # for reproducibility"
      ],
      "execution_count": 0,
      "outputs": []
    },
    {
      "cell_type": "markdown",
      "metadata": {
        "id": "52uZ2Xhyi-MW",
        "colab_type": "text"
      },
      "source": [
        "Let's next consider the observation space for the Pong environment. Instead of four physical descriptors of the cart-pole setup, in the case of Pong our observations are the individual video frames (i.e., images) that depict the state of the board. Thus, the observations are 210x160 RGB images (arrays of shape (210,160,3)).\n",
        "\n",
        "We can again confirm the size of the observation space by query:"
      ]
    },
    {
      "cell_type": "code",
      "metadata": {
        "id": "0yX4GWvxjnHS",
        "colab_type": "code",
        "colab": {
          "base_uri": "https://localhost:8080/",
          "height": 34
        },
        "outputId": "539779db-3a94-4160-9a4b-2f89ed117f6b"
      },
      "source": [
        "print(\"Environment has observation space =\", env.observation_space)"
      ],
      "execution_count": 14,
      "outputs": [
        {
          "output_type": "stream",
          "text": [
            "Environment has observation space = Box(210, 160, 3)\n"
          ],
          "name": "stdout"
        }
      ]
    },
    {
      "cell_type": "markdown",
      "metadata": {
        "id": "uuEC2TdSjx9D",
        "colab_type": "text"
      },
      "source": [
        "In Pong, at every time step, the agent (which controls the paddle) has six actions to choose from: no-op (no operation), move right, move left, fire, fire right, and fire left. Let's confirm the size of the action space by querying the environment:"
      ]
    },
    {
      "cell_type": "code",
      "metadata": {
        "id": "Iuy9oPc1kag3",
        "colab_type": "code",
        "colab": {
          "base_uri": "https://localhost:8080/",
          "height": 34
        },
        "outputId": "20647a01-da2a-4c95-ec6f-95d482728b98"
      },
      "source": [
        "n_actions = env.action_space.n\n",
        "print(\"Number of possible actions that the agent can choose from =\", n_actions)"
      ],
      "execution_count": 15,
      "outputs": [
        {
          "output_type": "stream",
          "text": [
            "Number of possible actions that the agent can choose from = 6\n"
          ],
          "name": "stdout"
        }
      ]
    },
    {
      "cell_type": "markdown",
      "metadata": {
        "id": "9-fghDRigUE5",
        "colab_type": "text"
      },
      "source": [
        "## 3.7 Define the Pong agent\n",
        "\n",
        "As before, we'll use a neural network to define our agent. What network architecture do you think would be especially well suited to this game? Since our observations are now in the form of images, we'll add convolutional layers to the network to increase the learning capacity of our network."
      ]
    },
    {
      "cell_type": "code",
      "metadata": {
        "id": "IJiqbFYpgYRH",
        "colab_type": "code",
        "colab": {}
      },
      "source": [
        "### Define the Pong agent ###\n",
        "\n",
        "# Functionally define layers for convenience\n",
        "# All convolutional layers will have ReLu activation\n",
        "Conv2D = functools.partial(tf.keras.layers.Conv2D, padding='same', activation='relu')\n",
        "Flatten = tf.keras.layers.Flatten\n",
        "Dense = tf.keras.layers.Dense\n",
        "\n",
        "# Defines a CNN for the Pong agent\n",
        "def create_pong_model():\n",
        "  model = tf.keras.models.Sequential([\n",
        "    # Convolutional layers\n",
        "    # First, 16 7x7 filters with 4x4 stride\n",
        "    Conv2D(filters=16, kernel_size=7, strides=4),\n",
        "\n",
        "    # TODO: define convolutional layers with 32 5x5 filters and 2x2 stride\n",
        "    Conv2D(filters = 32, kernel_size = 5, strides =2),\n",
        "\n",
        "    # TODO: define convolutional layers with 48 3x3 filters and 2x2 stride\n",
        "    Conv2D(filters = 48, kernel_size = 3, strides =2),\n",
        "\n",
        "    Flatten(),\n",
        "    \n",
        "    # Fully connected layer and output\n",
        "    Dense(units=64, activation='relu'),\n",
        "    # TODO: define the output dimension of the last Dense layer. \n",
        "    # Pay attention to the space the agent needs to act in\n",
        "    Dense(n_actions, activation = None)\n",
        "  \n",
        "  ])\n",
        "  return model\n",
        "\n",
        "pong_model = create_pong_model()"
      ],
      "execution_count": 0,
      "outputs": []
    },
    {
      "cell_type": "markdown",
      "metadata": {
        "id": "yaeZ067olFiJ",
        "colab_type": "text"
      },
      "source": [
        "Since we've already defined the action function, `choose_action(model, observation)`, we don't need to define it again. Instead, we'll be able to reuse it later on by passing in our new model we've just created, `pong_model`. This is awesome because our action function provides a modular and generalizable method for all sorts of RL agents!"
      ]
    },
    {
      "cell_type": "markdown",
      "metadata": {
        "id": "l0RvqOVkmc2r",
        "colab_type": "text"
      },
      "source": [
        "## 3.8 Pong-specific functions\n",
        "\n",
        "In Part 1 (Cartpole), we implemented some key functions and classes to build and train our RL agent -- `choose_action(model, observation)` and the `Memory` class, for example. However, in getting ready to apply these to a new game like Pong, we might need to make some slight modifications. \n",
        "\n",
        "Namely, we need to think about what happens when a game ends. In Pong, we know a game has ended if the reward is +1 (we won!) or -1 (we lost unfortunately). Otherwise, we expect the reward at a timestep to be zero -- the players (or agents) are just playing eachother. So, after a game ends, we will need to reset the reward to zero when a game ends. This will result in a modified reward function."
      ]
    },
    {
      "cell_type": "code",
      "metadata": {
        "id": "iEZG2o50luLu",
        "colab_type": "code",
        "colab": {}
      },
      "source": [
        "### Pong reward function ###\n",
        "\n",
        "# Compute normalized, discounted rewards for Pong (i.e., return)\n",
        "# Arguments:\n",
        "#   rewards: reward at timesteps in episode\n",
        "#   gamma: discounting factor. Note increase to 0.99 -- rate of depreciation will be slower.\n",
        "# Returns:\n",
        "#   normalized discounted reward\n",
        "def discount_rewards(rewards, gamma=0.99): \n",
        "  discounted_rewards = np.zeros_like(rewards)\n",
        "  R = 0\n",
        "  for t in reversed(range(0, len(rewards))):\n",
        "      # NEW: Reset the sum if the reward is not 0 (the game has ended!)\n",
        "      if rewards[t] != 0:\n",
        "        R = 0\n",
        "      # update the total discounted reward as before\n",
        "      R = R * gamma + rewards[t]\n",
        "      discounted_rewards[t] = R\n",
        "      \n",
        "  return normalize(discounted_rewards)"
      ],
      "execution_count": 0,
      "outputs": []
    },
    {
      "cell_type": "markdown",
      "metadata": {
        "id": "HopLpb4IoOqA",
        "colab_type": "text"
      },
      "source": [
        "Additionally, we have to consider the nature of the observations in the Pong environment, and how they will be fed into our network. Our observations in this case are images. Before we input an image into our network, we'll do a bit of pre-processing to crop and scale, clean up the background colors to a single color, and set the important game elements to a single color. Let's use this function to visualize what an observation might look like before and after pre-processing."
      ]
    },
    {
      "cell_type": "code",
      "metadata": {
        "id": "no5IIYtFm8pI",
        "colab_type": "code",
        "colab": {
          "base_uri": "https://localhost:8080/",
          "height": 227
        },
        "outputId": "4cd87ca4-d9b9-4f76-e7fe-b7eef4435b7d"
      },
      "source": [
        "observation = env.reset()\n",
        "for i in range(30):\n",
        "  observation, _,_,_ = env.step(0)\n",
        "observation_pp = mdl.lab3.preprocess_pong(observation)\n",
        "\n",
        "f = plt.figure(figsize=(10,3))\n",
        "ax = f.add_subplot(121)\n",
        "ax2 = f.add_subplot(122)\n",
        "ax.imshow(observation); ax.grid(False);\n",
        "ax2.imshow(np.squeeze(observation_pp)); ax2.grid(False); plt.title('Preprocessed Observation');"
      ],
      "execution_count": 18,
      "outputs": [
        {
          "output_type": "display_data",
          "data": {
            "image/png": "[encoded data removed]",
            "text/plain": [
              "<Figure size 720x216 with 2 Axes>"
            ]
          },
          "metadata": {
            "tags": [],
            "needs_background": "light"
          }
        }
      ]
    },
    {
      "cell_type": "markdown",
      "metadata": {
        "id": "bYwIWC-Cz8F2",
        "colab_type": "text"
      },
      "source": [
        "What do you notice? How might these changes be important for training our RL algorithm?"
      ]
    },
    {
      "cell_type": "markdown",
      "metadata": {
        "id": "mRqcaDQ1pm3x",
        "colab_type": "text"
      },
      "source": [
        "## 3.9 Training Pong\n",
        "\n",
        "We're now all set up to start training our RL algorithm and agent for the game of Pong! We've already defined our loss function with `compute_loss`, which employs policy gradient learning, as well as our backpropagation step with `train_step` which is beautiful! We will use these functions to execute training the Pong agent. Let's walk through the training block.\n",
        "\n",
        "In Pong, rather than feeding our network one image at a time, it can actually improve performance to input the difference between two consecutive observations, which really gives us information about the movement between frames -- how the game is changing. We'll first pre-process the raw observation, `x`, and then we'll compute the difference with the image frame we saw one timestep before. \n",
        "\n",
        "This observation change will be forward propagated through our Pong agent, the CNN network model, which will then predict the next action to take based on this observation. The raw reward will be computed, and the observation, action, and reward will be recorded into memory. This will continue until a training episode, i.e., a game, ends.\n",
        "\n",
        "Then, we will compute the discounted rewards, and use this information to execute a training step. Memory will be cleared, and we will do it all over again!\n",
        "\n",
        "Let's run the code block to train our Pong agent. Note that completing training will take quite a bit of time (estimated at least a couple of hours). We will again visualize the evolution of the total reward as a function of training to get a sense of how the agent is learning."
      ]
    },
    {
      "cell_type": "code",
      "metadata": {
        "id": "xCwyQQrPnkZG",
        "colab_type": "code",
        "colab": {
          "base_uri": "https://localhost:8080/",
          "height": 909
        },
        "outputId": "bfad50f1-5e40-4d96-c3bd-bd3739ef49a7"
      },
      "source": [
        "### Training Pong ###\n",
        "\n",
        "# Hyperparameters\n",
        "learning_rate=1e-4\n",
        "MAX_ITERS = 10000 # increase the maximum number of episodes, since Pong is more complex!\n",
        "\n",
        "# Model and optimizer\n",
        "pong_model = create_pong_model()\n",
        "optimizer = tf.keras.optimizers.Adam(learning_rate)\n",
        "\n",
        "# plotting\n",
        "smoothed_reward = mdl.util.LossHistory(smoothing_factor=0.9)\n",
        "plotter = mdl.util.PeriodicPlotter(sec=5, xlabel='Iterations', ylabel='Rewards')\n",
        "memory = Memory()\n",
        "\n",
        "for i_episode in range(MAX_ITERS):\n",
        "\n",
        "  plotter.plot(smoothed_reward.get())\n",
        "\n",
        "  # Restart the environment\n",
        "  observation = env.reset()\n",
        "  previous_frame = mdl.lab3.preprocess_pong(observation)\n",
        "\n",
        "  while True:\n",
        "      # Pre-process image \n",
        "      current_frame = mdl.lab3.preprocess_pong(observation)\n",
        "      \n",
        "      '''TODO: determine the observation change\n",
        "      Hint: this is the difference between the past two frames'''\n",
        "      obs_change = current_frame - previous_frame\n",
        "      \n",
        "      '''TODO: choose an action for the pong model, using the frame difference, and evaluate'''\n",
        "      action = choose_action(pong_model, obs_change)\n",
        "      # Take the chosen action\n",
        "      next_observation, reward, done, info = env.step(action)\n",
        "\n",
        "      '''TODO: save the observed frame difference, the action that was taken, and the resulting reward!'''\n",
        "      memory.add_to_memory(obs_change, action, reward)\n",
        "      \n",
        "      # is the episode over? did you crash or do so well that you're done?\n",
        "      if done:\n",
        "          # determine total reward and keep a record of this\n",
        "          total_reward = sum(memory.rewards)\n",
        "          smoothed_reward.append( total_reward )\n",
        "\n",
        "          # begin training\n",
        "          train_step(pong_model, \n",
        "                     optimizer, \n",
        "                     observations = np.stack(memory.observations, 0), \n",
        "                     actions = np.array(memory.actions),\n",
        "                     discounted_rewards = discount_rewards(memory.rewards))\n",
        "          \n",
        "          memory.clear()\n",
        "          break\n",
        "\n",
        "      observation = next_observation\n",
        "      previous_frame = current_frame"
      ],
      "execution_count": 19,
      "outputs": [
        {
          "output_type": "display_data",
          "data": {
            "image/png": "[encoded data removed]",
            "text/plain": [
              "<Figure size 432x288 with 1 Axes>"
            ]
          },
          "metadata": {
            "tags": []
          }
        },
        {
          "output_type": "error",
          "ename": "KeyboardInterrupt",
          "evalue": "ignored",
          "traceback": [
            "\u001b[0;31m---------------------------------------------------------------------------\u001b[0m",
            "\u001b[0;31mKeyboardInterrupt\u001b[0m                         Traceback (most recent call last)",
            "\u001b[0;32m<ipython-input-19-3b58e7c6aa39>\u001b[0m in \u001b[0;36m<module>\u001b[0;34m()\u001b[0m\n\u001b[1;32m     31\u001b[0m \u001b[0;34m\u001b[0m\u001b[0m\n\u001b[1;32m     32\u001b[0m       \u001b[0;34m'''TODO: choose an action for the pong model, using the frame difference, and evaluate'''\u001b[0m\u001b[0;34m\u001b[0m\u001b[0;34m\u001b[0m\u001b[0m\n\u001b[0;32m---> 33\u001b[0;31m       \u001b[0maction\u001b[0m \u001b[0;34m=\u001b[0m \u001b[0mchoose_action\u001b[0m\u001b[0;34m(\u001b[0m\u001b[0mpong_model\u001b[0m\u001b[0;34m,\u001b[0m \u001b[0mobs_change\u001b[0m\u001b[0;34m)\u001b[0m\u001b[0;34m\u001b[0m\u001b[0;34m\u001b[0m\u001b[0m\n\u001b[0m\u001b[1;32m     34\u001b[0m       \u001b[0;31m# Take the chosen action\u001b[0m\u001b[0;34m\u001b[0m\u001b[0;34m\u001b[0m\u001b[0;34m\u001b[0m\u001b[0m\n\u001b[1;32m     35\u001b[0m       \u001b[0mnext_observation\u001b[0m\u001b[0;34m,\u001b[0m \u001b[0mreward\u001b[0m\u001b[0;34m,\u001b[0m \u001b[0mdone\u001b[0m\u001b[0;34m,\u001b[0m \u001b[0minfo\u001b[0m \u001b[0;34m=\u001b[0m \u001b[0menv\u001b[0m\u001b[0;34m.\u001b[0m\u001b[0mstep\u001b[0m\u001b[0;34m(\u001b[0m\u001b[0maction\u001b[0m\u001b[0;34m)\u001b[0m\u001b[0;34m\u001b[0m\u001b[0;34m\u001b[0m\u001b[0m\n",
            "\u001b[0;32m<ipython-input-8-4bb4b7e58fc6>\u001b[0m in \u001b[0;36mchoose_action\u001b[0;34m(model, observation)\u001b[0m\n\u001b[1;32m     13\u001b[0m \u001b[0;34m\u001b[0m\u001b[0m\n\u001b[1;32m     14\u001b[0m   \u001b[0;34m'''TODO: feed the observations through the model to predict the log probabilities of each possible action.'''\u001b[0m\u001b[0;34m\u001b[0m\u001b[0;34m\u001b[0m\u001b[0m\n\u001b[0;32m---> 15\u001b[0;31m   \u001b[0mlogits\u001b[0m \u001b[0;34m=\u001b[0m \u001b[0mmodel\u001b[0m\u001b[0;34m.\u001b[0m\u001b[0mpredict\u001b[0m\u001b[0;34m(\u001b[0m\u001b[0mobservation\u001b[0m\u001b[0;34m)\u001b[0m\u001b[0;34m\u001b[0m\u001b[0;34m\u001b[0m\u001b[0m\n\u001b[0m\u001b[1;32m     16\u001b[0m \u001b[0;34m\u001b[0m\u001b[0m\n\u001b[1;32m     17\u001b[0m   \u001b[0;31m# pass the log probabilities through a softmax to compute true probabilities\u001b[0m\u001b[0;34m\u001b[0m\u001b[0;34m\u001b[0m\u001b[0;34m\u001b[0m\u001b[0m\n",
            "\u001b[0;32m/usr/local/lib/python3.6/dist-packages/tensorflow/python/keras/engine/training.py\u001b[0m in \u001b[0;36m_method_wrapper\u001b[0;34m(self, *args, **kwargs)\u001b[0m\n\u001b[1;32m     86\u001b[0m       raise ValueError('{} is not supported in multi-worker mode.'.format(\n\u001b[1;32m     87\u001b[0m           method.__name__))\n\u001b[0;32m---> 88\u001b[0;31m     \u001b[0;32mreturn\u001b[0m \u001b[0mmethod\u001b[0m\u001b[0;34m(\u001b[0m\u001b[0mself\u001b[0m\u001b[0;34m,\u001b[0m \u001b[0;34m*\u001b[0m\u001b[0margs\u001b[0m\u001b[0;34m,\u001b[0m \u001b[0;34m**\u001b[0m\u001b[0mkwargs\u001b[0m\u001b[0;34m)\u001b[0m\u001b[0;34m\u001b[0m\u001b[0;34m\u001b[0m\u001b[0m\n\u001b[0m\u001b[1;32m     89\u001b[0m \u001b[0;34m\u001b[0m\u001b[0m\n\u001b[1;32m     90\u001b[0m   return tf_decorator.make_decorator(\n",
            "\u001b[0;32m/usr/local/lib/python3.6/dist-packages/tensorflow/python/keras/engine/training.py\u001b[0m in \u001b[0;36mpredict\u001b[0;34m(self, x, batch_size, verbose, steps, callbacks, max_queue_size, workers, use_multiprocessing)\u001b[0m\n\u001b[1;32m   1247\u001b[0m           \u001b[0mworkers\u001b[0m\u001b[0;34m=\u001b[0m\u001b[0mworkers\u001b[0m\u001b[0;34m,\u001b[0m\u001b[0;34m\u001b[0m\u001b[0;34m\u001b[0m\u001b[0m\n\u001b[1;32m   1248\u001b[0m           \u001b[0muse_multiprocessing\u001b[0m\u001b[0;34m=\u001b[0m\u001b[0muse_multiprocessing\u001b[0m\u001b[0;34m,\u001b[0m\u001b[0;34m\u001b[0m\u001b[0;34m\u001b[0m\u001b[0m\n\u001b[0;32m-> 1249\u001b[0;31m           model=self)\n\u001b[0m\u001b[1;32m   1250\u001b[0m \u001b[0;34m\u001b[0m\u001b[0m\n\u001b[1;32m   1251\u001b[0m       \u001b[0;31m# Container that configures and calls `tf.keras.Callback`s.\u001b[0m\u001b[0;34m\u001b[0m\u001b[0;34m\u001b[0m\u001b[0;34m\u001b[0m\u001b[0m\n",
            "\u001b[0;32m/usr/local/lib/python3.6/dist-packages/tensorflow/python/keras/engine/data_adapter.py\u001b[0m in \u001b[0;36m__init__\u001b[0;34m(self, x, y, sample_weight, batch_size, steps_per_epoch, initial_epoch, epochs, shuffle, class_weight, max_queue_size, workers, use_multiprocessing, model)\u001b[0m\n\u001b[1;32m   1110\u001b[0m         \u001b[0muse_multiprocessing\u001b[0m\u001b[0;34m=\u001b[0m\u001b[0muse_multiprocessing\u001b[0m\u001b[0;34m,\u001b[0m\u001b[0;34m\u001b[0m\u001b[0;34m\u001b[0m\u001b[0m\n\u001b[1;32m   1111\u001b[0m         \u001b[0mdistribution_strategy\u001b[0m\u001b[0;34m=\u001b[0m\u001b[0mds_context\u001b[0m\u001b[0;34m.\u001b[0m\u001b[0mget_strategy\u001b[0m\u001b[0;34m(\u001b[0m\u001b[0;34m)\u001b[0m\u001b[0;34m,\u001b[0m\u001b[0;34m\u001b[0m\u001b[0;34m\u001b[0m\u001b[0m\n\u001b[0;32m-> 1112\u001b[0;31m         model=model)\n\u001b[0m\u001b[1;32m   1113\u001b[0m \u001b[0;34m\u001b[0m\u001b[0m\n\u001b[1;32m   1114\u001b[0m     \u001b[0mstrategy\u001b[0m \u001b[0;34m=\u001b[0m \u001b[0mds_context\u001b[0m\u001b[0;34m.\u001b[0m\u001b[0mget_strategy\u001b[0m\u001b[0;34m(\u001b[0m\u001b[0;34m)\u001b[0m\u001b[0;34m\u001b[0m\u001b[0;34m\u001b[0m\u001b[0m\n",
            "\u001b[0;32m/usr/local/lib/python3.6/dist-packages/tensorflow/python/keras/engine/data_adapter.py\u001b[0m in \u001b[0;36m__init__\u001b[0;34m(self, x, y, sample_weights, sample_weight_modes, batch_size, epochs, steps, shuffle, **kwargs)\u001b[0m\n\u001b[1;32m    360\u001b[0m       \u001b[0;32mreturn\u001b[0m \u001b[0mflat_dataset\u001b[0m\u001b[0;34m\u001b[0m\u001b[0;34m\u001b[0m\u001b[0m\n\u001b[1;32m    361\u001b[0m \u001b[0;34m\u001b[0m\u001b[0m\n\u001b[0;32m--> 362\u001b[0;31m     \u001b[0mindices_dataset\u001b[0m \u001b[0;34m=\u001b[0m \u001b[0mindices_dataset\u001b[0m\u001b[0;34m.\u001b[0m\u001b[0mflat_map\u001b[0m\u001b[0;34m(\u001b[0m\u001b[0mslice_batch_indices\u001b[0m\u001b[0;34m)\u001b[0m\u001b[0;34m\u001b[0m\u001b[0;34m\u001b[0m\u001b[0m\n\u001b[0m\u001b[1;32m    363\u001b[0m \u001b[0;34m\u001b[0m\u001b[0m\n\u001b[1;32m    364\u001b[0m     \u001b[0mdataset\u001b[0m \u001b[0;34m=\u001b[0m \u001b[0mself\u001b[0m\u001b[0;34m.\u001b[0m\u001b[0mslice_inputs\u001b[0m\u001b[0;34m(\u001b[0m\u001b[0mindices_dataset\u001b[0m\u001b[0;34m,\u001b[0m \u001b[0minputs\u001b[0m\u001b[0;34m)\u001b[0m\u001b[0;34m\u001b[0m\u001b[0;34m\u001b[0m\u001b[0m\n",
            "\u001b[0;32m/usr/local/lib/python3.6/dist-packages/tensorflow/python/data/ops/dataset_ops.py\u001b[0m in \u001b[0;36mflat_map\u001b[0;34m(self, map_func)\u001b[0m\n\u001b[1;32m   1650\u001b[0m       \u001b[0mDataset\u001b[0m\u001b[0;34m:\u001b[0m \u001b[0mA\u001b[0m\u001b[0;31m \u001b[0m\u001b[0;31m`\u001b[0m\u001b[0mDataset\u001b[0m\u001b[0;31m`\u001b[0m\u001b[0;34m.\u001b[0m\u001b[0;34m\u001b[0m\u001b[0;34m\u001b[0m\u001b[0m\n\u001b[1;32m   1651\u001b[0m     \"\"\"\n\u001b[0;32m-> 1652\u001b[0;31m     \u001b[0;32mreturn\u001b[0m \u001b[0mFlatMapDataset\u001b[0m\u001b[0;34m(\u001b[0m\u001b[0mself\u001b[0m\u001b[0;34m,\u001b[0m \u001b[0mmap_func\u001b[0m\u001b[0;34m)\u001b[0m\u001b[0;34m\u001b[0m\u001b[0;34m\u001b[0m\u001b[0m\n\u001b[0m\u001b[1;32m   1653\u001b[0m \u001b[0;34m\u001b[0m\u001b[0m\n\u001b[1;32m   1654\u001b[0m   def interleave(self,\n",
            "\u001b[0;32m/usr/local/lib/python3.6/dist-packages/tensorflow/python/data/ops/dataset_ops.py\u001b[0m in \u001b[0;36m__init__\u001b[0;34m(self, input_dataset, map_func)\u001b[0m\n\u001b[1;32m   4069\u001b[0m     \u001b[0mself\u001b[0m\u001b[0;34m.\u001b[0m\u001b[0m_input_dataset\u001b[0m \u001b[0;34m=\u001b[0m \u001b[0minput_dataset\u001b[0m\u001b[0;34m\u001b[0m\u001b[0;34m\u001b[0m\u001b[0m\n\u001b[1;32m   4070\u001b[0m     self._map_func = StructuredFunctionWrapper(\n\u001b[0;32m-> 4071\u001b[0;31m         map_func, self._transformation_name(), dataset=input_dataset)\n\u001b[0m\u001b[1;32m   4072\u001b[0m     \u001b[0;32mif\u001b[0m \u001b[0;32mnot\u001b[0m \u001b[0misinstance\u001b[0m\u001b[0;34m(\u001b[0m\u001b[0mself\u001b[0m\u001b[0;34m.\u001b[0m\u001b[0m_map_func\u001b[0m\u001b[0;34m.\u001b[0m\u001b[0moutput_structure\u001b[0m\u001b[0;34m,\u001b[0m \u001b[0mDatasetSpec\u001b[0m\u001b[0;34m)\u001b[0m\u001b[0;34m:\u001b[0m\u001b[0;34m\u001b[0m\u001b[0;34m\u001b[0m\u001b[0m\n\u001b[1;32m   4073\u001b[0m       raise TypeError(\n",
            "\u001b[0;32m/usr/local/lib/python3.6/dist-packages/tensorflow/python/data/ops/dataset_ops.py\u001b[0m in \u001b[0;36m__init__\u001b[0;34m(self, func, transformation_name, dataset, input_classes, input_shapes, input_types, input_structure, add_to_graph, use_legacy_function, defun_kwargs)\u001b[0m\n\u001b[1;32m   3219\u001b[0m       \u001b[0;32mwith\u001b[0m \u001b[0mtracking\u001b[0m\u001b[0;34m.\u001b[0m\u001b[0mresource_tracker_scope\u001b[0m\u001b[0;34m(\u001b[0m\u001b[0mresource_tracker\u001b[0m\u001b[0;34m)\u001b[0m\u001b[0;34m:\u001b[0m\u001b[0;34m\u001b[0m\u001b[0;34m\u001b[0m\u001b[0m\n\u001b[1;32m   3220\u001b[0m         \u001b[0;31m# TODO(b/141462134): Switch to using garbage collection.\u001b[0m\u001b[0;34m\u001b[0m\u001b[0;34m\u001b[0m\u001b[0;34m\u001b[0m\u001b[0m\n\u001b[0;32m-> 3221\u001b[0;31m         \u001b[0mself\u001b[0m\u001b[0;34m.\u001b[0m\u001b[0m_function\u001b[0m \u001b[0;34m=\u001b[0m \u001b[0mwrapper_fn\u001b[0m\u001b[0;34m.\u001b[0m\u001b[0mget_concrete_function\u001b[0m\u001b[0;34m(\u001b[0m\u001b[0;34m)\u001b[0m\u001b[0;34m\u001b[0m\u001b[0;34m\u001b[0m\u001b[0m\n\u001b[0m\u001b[1;32m   3222\u001b[0m \u001b[0;34m\u001b[0m\u001b[0m\n\u001b[1;32m   3223\u001b[0m         \u001b[0;32mif\u001b[0m \u001b[0madd_to_graph\u001b[0m\u001b[0;34m:\u001b[0m\u001b[0;34m\u001b[0m\u001b[0;34m\u001b[0m\u001b[0m\n",
            "\u001b[0;32m/usr/local/lib/python3.6/dist-packages/tensorflow/python/eager/function.py\u001b[0m in \u001b[0;36mget_concrete_function\u001b[0;34m(self, *args, **kwargs)\u001b[0m\n\u001b[1;32m   2530\u001b[0m     \"\"\"\n\u001b[1;32m   2531\u001b[0m     graph_function = self._get_concrete_function_garbage_collected(\n\u001b[0;32m-> 2532\u001b[0;31m         *args, **kwargs)\n\u001b[0m\u001b[1;32m   2533\u001b[0m     \u001b[0mgraph_function\u001b[0m\u001b[0;34m.\u001b[0m\u001b[0m_garbage_collector\u001b[0m\u001b[0;34m.\u001b[0m\u001b[0mrelease\u001b[0m\u001b[0;34m(\u001b[0m\u001b[0;34m)\u001b[0m  \u001b[0;31m# pylint: disable=protected-access\u001b[0m\u001b[0;34m\u001b[0m\u001b[0;34m\u001b[0m\u001b[0m\n\u001b[1;32m   2534\u001b[0m     \u001b[0;32mreturn\u001b[0m \u001b[0mgraph_function\u001b[0m\u001b[0;34m\u001b[0m\u001b[0;34m\u001b[0m\u001b[0m\n",
            "\u001b[0;32m/usr/local/lib/python3.6/dist-packages/tensorflow/python/eager/function.py\u001b[0m in \u001b[0;36m_get_concrete_function_garbage_collected\u001b[0;34m(self, *args, **kwargs)\u001b[0m\n\u001b[1;32m   2494\u001b[0m       \u001b[0margs\u001b[0m\u001b[0;34m,\u001b[0m \u001b[0mkwargs\u001b[0m \u001b[0;34m=\u001b[0m \u001b[0;32mNone\u001b[0m\u001b[0;34m,\u001b[0m \u001b[0;32mNone\u001b[0m\u001b[0;34m\u001b[0m\u001b[0;34m\u001b[0m\u001b[0m\n\u001b[1;32m   2495\u001b[0m     \u001b[0;32mwith\u001b[0m \u001b[0mself\u001b[0m\u001b[0;34m.\u001b[0m\u001b[0m_lock\u001b[0m\u001b[0;34m:\u001b[0m\u001b[0;34m\u001b[0m\u001b[0;34m\u001b[0m\u001b[0m\n\u001b[0;32m-> 2496\u001b[0;31m       \u001b[0mgraph_function\u001b[0m\u001b[0;34m,\u001b[0m \u001b[0margs\u001b[0m\u001b[0;34m,\u001b[0m \u001b[0mkwargs\u001b[0m \u001b[0;34m=\u001b[0m \u001b[0mself\u001b[0m\u001b[0;34m.\u001b[0m\u001b[0m_maybe_define_function\u001b[0m\u001b[0;34m(\u001b[0m\u001b[0margs\u001b[0m\u001b[0;34m,\u001b[0m \u001b[0mkwargs\u001b[0m\u001b[0;34m)\u001b[0m\u001b[0;34m\u001b[0m\u001b[0;34m\u001b[0m\u001b[0m\n\u001b[0m\u001b[1;32m   2497\u001b[0m       \u001b[0;32mif\u001b[0m \u001b[0mself\u001b[0m\u001b[0;34m.\u001b[0m\u001b[0minput_signature\u001b[0m\u001b[0;34m:\u001b[0m\u001b[0;34m\u001b[0m\u001b[0;34m\u001b[0m\u001b[0m\n\u001b[1;32m   2498\u001b[0m         \u001b[0margs\u001b[0m \u001b[0;34m=\u001b[0m \u001b[0mself\u001b[0m\u001b[0;34m.\u001b[0m\u001b[0minput_signature\u001b[0m\u001b[0;34m\u001b[0m\u001b[0;34m\u001b[0m\u001b[0m\n",
            "\u001b[0;32m/usr/local/lib/python3.6/dist-packages/tensorflow/python/eager/function.py\u001b[0m in \u001b[0;36m_maybe_define_function\u001b[0;34m(self, args, kwargs)\u001b[0m\n\u001b[1;32m   2775\u001b[0m \u001b[0;34m\u001b[0m\u001b[0m\n\u001b[1;32m   2776\u001b[0m       \u001b[0mself\u001b[0m\u001b[0;34m.\u001b[0m\u001b[0m_function_cache\u001b[0m\u001b[0;34m.\u001b[0m\u001b[0mmissed\u001b[0m\u001b[0;34m.\u001b[0m\u001b[0madd\u001b[0m\u001b[0;34m(\u001b[0m\u001b[0mcall_context_key\u001b[0m\u001b[0;34m)\u001b[0m\u001b[0;34m\u001b[0m\u001b[0;34m\u001b[0m\u001b[0m\n\u001b[0;32m-> 2777\u001b[0;31m       \u001b[0mgraph_function\u001b[0m \u001b[0;34m=\u001b[0m \u001b[0mself\u001b[0m\u001b[0;34m.\u001b[0m\u001b[0m_create_graph_function\u001b[0m\u001b[0;34m(\u001b[0m\u001b[0margs\u001b[0m\u001b[0;34m,\u001b[0m \u001b[0mkwargs\u001b[0m\u001b[0;34m)\u001b[0m\u001b[0;34m\u001b[0m\u001b[0;34m\u001b[0m\u001b[0m\n\u001b[0m\u001b[1;32m   2778\u001b[0m       \u001b[0mself\u001b[0m\u001b[0;34m.\u001b[0m\u001b[0m_function_cache\u001b[0m\u001b[0;34m.\u001b[0m\u001b[0mprimary\u001b[0m\u001b[0;34m[\u001b[0m\u001b[0mcache_key\u001b[0m\u001b[0;34m]\u001b[0m \u001b[0;34m=\u001b[0m \u001b[0mgraph_function\u001b[0m\u001b[0;34m\u001b[0m\u001b[0;34m\u001b[0m\u001b[0m\n\u001b[1;32m   2779\u001b[0m       \u001b[0;32mreturn\u001b[0m \u001b[0mgraph_function\u001b[0m\u001b[0;34m,\u001b[0m \u001b[0margs\u001b[0m\u001b[0;34m,\u001b[0m \u001b[0mkwargs\u001b[0m\u001b[0;34m\u001b[0m\u001b[0;34m\u001b[0m\u001b[0m\n",
            "\u001b[0;32m/usr/local/lib/python3.6/dist-packages/tensorflow/python/eager/function.py\u001b[0m in \u001b[0;36m_create_graph_function\u001b[0;34m(self, args, kwargs, override_flat_arg_shapes)\u001b[0m\n\u001b[1;32m   2671\u001b[0m         \u001b[0;31m# places (like Keras) where the FuncGraph lives longer than the\u001b[0m\u001b[0;34m\u001b[0m\u001b[0;34m\u001b[0m\u001b[0;34m\u001b[0m\u001b[0m\n\u001b[1;32m   2672\u001b[0m         \u001b[0;31m# ConcreteFunction.\u001b[0m\u001b[0;34m\u001b[0m\u001b[0;34m\u001b[0m\u001b[0;34m\u001b[0m\u001b[0m\n\u001b[0;32m-> 2673\u001b[0;31m         shared_func_graph=False)\n\u001b[0m\u001b[1;32m   2674\u001b[0m     \u001b[0;32mreturn\u001b[0m \u001b[0mgraph_function\u001b[0m\u001b[0;34m\u001b[0m\u001b[0;34m\u001b[0m\u001b[0m\n\u001b[1;32m   2675\u001b[0m \u001b[0;34m\u001b[0m\u001b[0m\n",
            "\u001b[0;32m/usr/local/lib/python3.6/dist-packages/tensorflow/python/eager/function.py\u001b[0m in \u001b[0;36m__init__\u001b[0;34m(self, func_graph, attrs, signature, shared_func_graph)\u001b[0m\n\u001b[1;32m   1563\u001b[0m     \u001b[0;31m# FuncGraph directly.\u001b[0m\u001b[0;34m\u001b[0m\u001b[0;34m\u001b[0m\u001b[0;34m\u001b[0m\u001b[0m\n\u001b[1;32m   1564\u001b[0m     self._delayed_rewrite_functions = _DelayedRewriteGradientFunctions(\n\u001b[0;32m-> 1565\u001b[0;31m         func_graph, self._attrs, self._garbage_collector)\n\u001b[0m\u001b[1;32m   1566\u001b[0m     \u001b[0mself\u001b[0m\u001b[0;34m.\u001b[0m\u001b[0m_first_order_tape_functions\u001b[0m \u001b[0;34m=\u001b[0m \u001b[0;34m{\u001b[0m\u001b[0;34m}\u001b[0m\u001b[0;34m\u001b[0m\u001b[0;34m\u001b[0m\u001b[0m\n\u001b[1;32m   1567\u001b[0m     \u001b[0mself\u001b[0m\u001b[0;34m.\u001b[0m\u001b[0m_higher_order_tape_functions\u001b[0m \u001b[0;34m=\u001b[0m \u001b[0;34m{\u001b[0m\u001b[0;34m}\u001b[0m\u001b[0;34m\u001b[0m\u001b[0;34m\u001b[0m\u001b[0m\n",
            "\u001b[0;32m/usr/local/lib/python3.6/dist-packages/tensorflow/python/eager/function.py\u001b[0m in \u001b[0;36m__init__\u001b[0;34m(self, func_graph, attrs, func_graph_deleter)\u001b[0m\n\u001b[1;32m    652\u001b[0m     self._inference_function = _EagerDefinedFunction(\n\u001b[1;32m    653\u001b[0m         \u001b[0m_inference_name\u001b[0m\u001b[0;34m(\u001b[0m\u001b[0mself\u001b[0m\u001b[0;34m.\u001b[0m\u001b[0m_func_graph\u001b[0m\u001b[0;34m.\u001b[0m\u001b[0mname\u001b[0m\u001b[0;34m)\u001b[0m\u001b[0;34m,\u001b[0m \u001b[0mself\u001b[0m\u001b[0;34m.\u001b[0m\u001b[0m_func_graph\u001b[0m\u001b[0;34m,\u001b[0m\u001b[0;34m\u001b[0m\u001b[0;34m\u001b[0m\u001b[0m\n\u001b[0;32m--> 654\u001b[0;31m         self._func_graph.inputs, self._func_graph.outputs, attrs)\n\u001b[0m\u001b[1;32m    655\u001b[0m     \u001b[0mself\u001b[0m\u001b[0;34m.\u001b[0m\u001b[0m_attrs\u001b[0m \u001b[0;34m=\u001b[0m \u001b[0mattrs\u001b[0m\u001b[0;34m\u001b[0m\u001b[0;34m\u001b[0m\u001b[0m\n\u001b[1;32m    656\u001b[0m     \u001b[0mself\u001b[0m\u001b[0;34m.\u001b[0m\u001b[0m_gradient_name\u001b[0m \u001b[0;34m=\u001b[0m \u001b[0;32mNone\u001b[0m\u001b[0;34m\u001b[0m\u001b[0;34m\u001b[0m\u001b[0m\n",
            "\u001b[0;32m/usr/local/lib/python3.6/dist-packages/tensorflow/python/eager/function.py\u001b[0m in \u001b[0;36m__init__\u001b[0;34m(self, name, graph, inputs, outputs, attrs)\u001b[0m\n\u001b[1;32m    514\u001b[0m       \u001b[0;32mif\u001b[0m \u001b[0mcontext\u001b[0m\u001b[0;34m.\u001b[0m\u001b[0mexecuting_eagerly\u001b[0m\u001b[0;34m(\u001b[0m\u001b[0;34m)\u001b[0m\u001b[0;34m:\u001b[0m\u001b[0;34m\u001b[0m\u001b[0;34m\u001b[0m\u001b[0m\n\u001b[1;32m    515\u001b[0m         \u001b[0mcontext\u001b[0m\u001b[0;34m.\u001b[0m\u001b[0mensure_initialized\u001b[0m\u001b[0;34m(\u001b[0m\u001b[0;34m)\u001b[0m\u001b[0;34m\u001b[0m\u001b[0;34m\u001b[0m\u001b[0m\n\u001b[0;32m--> 516\u001b[0;31m         \u001b[0mcontext\u001b[0m\u001b[0;34m.\u001b[0m\u001b[0madd_function\u001b[0m\u001b[0;34m(\u001b[0m\u001b[0mfn\u001b[0m\u001b[0;34m)\u001b[0m\u001b[0;34m\u001b[0m\u001b[0;34m\u001b[0m\u001b[0m\n\u001b[0m\u001b[1;32m    517\u001b[0m         \u001b[0mself\u001b[0m\u001b[0;34m.\u001b[0m\u001b[0m_function_deleter\u001b[0m \u001b[0;34m=\u001b[0m \u001b[0m_EagerDefinedFunctionDeleter\u001b[0m\u001b[0;34m(\u001b[0m\u001b[0mself\u001b[0m\u001b[0;34m.\u001b[0m\u001b[0mname\u001b[0m\u001b[0;34m)\u001b[0m\u001b[0;34m\u001b[0m\u001b[0;34m\u001b[0m\u001b[0m\n\u001b[1;32m    518\u001b[0m         \u001b[0mself\u001b[0m\u001b[0;34m.\u001b[0m\u001b[0m_registered_on_context\u001b[0m \u001b[0;34m=\u001b[0m \u001b[0;32mTrue\u001b[0m\u001b[0;34m\u001b[0m\u001b[0;34m\u001b[0m\u001b[0m\n",
            "\u001b[0;32m/usr/local/lib/python3.6/dist-packages/tensorflow/python/eager/context.py\u001b[0m in \u001b[0;36madd_function\u001b[0;34m(fdef)\u001b[0m\n\u001b[1;32m   2230\u001b[0m \u001b[0;32mdef\u001b[0m \u001b[0madd_function\u001b[0m\u001b[0;34m(\u001b[0m\u001b[0mfdef\u001b[0m\u001b[0;34m)\u001b[0m\u001b[0;34m:\u001b[0m\u001b[0;34m\u001b[0m\u001b[0;34m\u001b[0m\u001b[0m\n\u001b[1;32m   2231\u001b[0m   \u001b[0;34m\"\"\"Add a function definition to the context.\"\"\"\u001b[0m\u001b[0;34m\u001b[0m\u001b[0;34m\u001b[0m\u001b[0m\n\u001b[0;32m-> 2232\u001b[0;31m   \u001b[0mcontext\u001b[0m\u001b[0;34m(\u001b[0m\u001b[0;34m)\u001b[0m\u001b[0;34m.\u001b[0m\u001b[0madd_function\u001b[0m\u001b[0;34m(\u001b[0m\u001b[0mfdef\u001b[0m\u001b[0;34m)\u001b[0m\u001b[0;34m\u001b[0m\u001b[0;34m\u001b[0m\u001b[0m\n\u001b[0m\u001b[1;32m   2233\u001b[0m \u001b[0;34m\u001b[0m\u001b[0m\n\u001b[1;32m   2234\u001b[0m \u001b[0;34m\u001b[0m\u001b[0m\n",
            "\u001b[0;32m/usr/local/lib/python3.6/dist-packages/tensorflow/python/eager/context.py\u001b[0m in \u001b[0;36madd_function\u001b[0;34m(self, fn)\u001b[0m\n\u001b[1;32m   1058\u001b[0m     \"\"\"\n\u001b[1;32m   1059\u001b[0m     \u001b[0mself\u001b[0m\u001b[0;34m.\u001b[0m\u001b[0mensure_initialized\u001b[0m\u001b[0;34m(\u001b[0m\u001b[0;34m)\u001b[0m\u001b[0;34m\u001b[0m\u001b[0;34m\u001b[0m\u001b[0m\n\u001b[0;32m-> 1060\u001b[0;31m     \u001b[0mpywrap_tfe\u001b[0m\u001b[0;34m.\u001b[0m\u001b[0mTFE_ContextAddFunction\u001b[0m\u001b[0;34m(\u001b[0m\u001b[0mself\u001b[0m\u001b[0;34m.\u001b[0m\u001b[0m_handle\u001b[0m\u001b[0;34m,\u001b[0m \u001b[0mfn\u001b[0m\u001b[0;34m)\u001b[0m\u001b[0;34m\u001b[0m\u001b[0;34m\u001b[0m\u001b[0m\n\u001b[0m\u001b[1;32m   1061\u001b[0m \u001b[0;34m\u001b[0m\u001b[0m\n\u001b[1;32m   1062\u001b[0m   \u001b[0;32mdef\u001b[0m \u001b[0madd_function_def\u001b[0m\u001b[0;34m(\u001b[0m\u001b[0mself\u001b[0m\u001b[0;34m,\u001b[0m \u001b[0mfdef\u001b[0m\u001b[0;34m)\u001b[0m\u001b[0;34m:\u001b[0m\u001b[0;34m\u001b[0m\u001b[0;34m\u001b[0m\u001b[0m\n",
            "\u001b[0;31mKeyboardInterrupt\u001b[0m: "
          ]
        },
        {
          "output_type": "display_data",
          "data": {
            "image/png": "[encoded data removed]",
            "text/plain": [
              "<Figure size 432x288 with 1 Axes>"
            ]
          },
          "metadata": {
            "tags": [],
            "needs_background": "light"
          }
        }
      ]
    },
    {
      "cell_type": "markdown",
      "metadata": {
        "id": "8LiEY5Y_ts-Z",
        "colab_type": "text"
      },
      "source": [
        "Finally we can put our trained agent to the test! It will play in a newly instantiated Pong environment against the \"computer\", a base AI system for Pong. Your agent plays as the green paddle. Let's watch the match instant replay!"
      ]
    },
    {
      "cell_type": "code",
      "metadata": {
        "id": "TvHXbkL0tR6M",
        "colab_type": "code",
        "colab": {}
      },
      "source": [
        "saved_pong = mdl.lab3.save_video_of_model(\n",
        "    pong_model, \"Pong-v0\", obs_diff=True, \n",
        "    pp_fn=mdl.lab3.preprocess_pong)\n",
        "mdl.lab3.play_video(saved_pong)"
      ],
      "execution_count": 0,
      "outputs": []
    },
    {
      "cell_type": "markdown",
      "metadata": {
        "id": "TIlwIgBP3Js6",
        "colab_type": "text"
      },
      "source": [
        "## 3.10 Conclusion\n",
        "\n",
        "That's it! Congratulations on training two RL agents and putting them to the test! We encourage you to consider the following:\n",
        "\n",
        "*   How does the agent perform?\n",
        "*   Could you train it for shorter amounts of time  and still perform well?\n",
        "*   Do you think that training longer would help even more? \n",
        "* How does the complexity of Pong relative to Cartpole alter the rate at which the agent learns and its performance? \n",
        "* What are some things you could change about the agent or the learning process to potentially improve performance?\n",
        "\n",
        "If you want to go further, try to optimize your model to achieve the best performance! **[Email us](mailto:introtodeeplearning-staff@mit.edu) a copy of your notebook with the Pong training executed AND a saved video of your Pong agent competing! We'll give out prizes to the best performers!**"
      ]
    }
  ]
}